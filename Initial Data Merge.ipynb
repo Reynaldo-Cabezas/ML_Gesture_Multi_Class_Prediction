{
 "cells": [
  {
   "cell_type": "code",
   "execution_count": 1,
   "id": "33d9b40a",
   "metadata": {},
   "outputs": [],
   "source": [
    "# Import necessary libraries\n",
    "import os\n",
    "import pandas as pd"
   ]
  },
  {
   "cell_type": "code",
   "execution_count": 2,
   "id": "c9691276",
   "metadata": {},
   "outputs": [],
   "source": [
    "# Set up the directory path\n",
    "main_dir = \"C:/Users/reicd/Downloads/MY_ML_PROJECT/data/raw\""
   ]
  },
  {
   "cell_type": "code",
   "execution_count": 3,
   "id": "8d329c82",
   "metadata": {},
   "outputs": [],
   "source": [
    "# Define lists to hold file names\n",
    "raw_files = []\n",
    "additional_files = []"
   ]
  },
  {
   "cell_type": "code",
   "execution_count": 4,
   "id": "b73ba068",
   "metadata": {},
   "outputs": [],
   "source": [
    "# Populate the lists with relevant file names\n",
    "for filename in os.listdir(main_dir):\n",
    "    if filename.endswith(\"_raw.csv\"):\n",
    "        raw_files.append(filename)\n",
    "    elif \"_va3.csv\" in filename:\n",
    "        additional_files.append(filename)"
   ]
  },
  {
   "cell_type": "code",
   "execution_count": 5,
   "id": "7e04ba1f",
   "metadata": {},
   "outputs": [],
   "source": [
    "# Sort files for consistency\n",
    "raw_files.sort()\n",
    "additional_files.sort()"
   ]
  },
  {
   "cell_type": "code",
   "execution_count": 6,
   "id": "462f6f7b",
   "metadata": {},
   "outputs": [],
   "source": [
    "# Initialize a list to hold all combined dataframes\n",
    "combined_dataframes = []"
   ]
  },
  {
   "cell_type": "code",
   "execution_count": 7,
   "id": "8cddc567",
   "metadata": {},
   "outputs": [],
   "source": [
    "# Function to add Subject and Story columns and merge data\n",
    "def merge_files_add_metadata(raw_file, additional_file):\n",
    "    # Extract subject and story from the file name\n",
    "    letter_number = raw_file.split(\"_\")[0]  # Extract \"a1\", \"a2\", etc.\n",
    "    subject = letter_number[0].upper()      # Extract letter and capitalize\n",
    "    story = letter_number[1]                # Extract number\n",
    "    \n",
    "    # Read raw and additional data files\n",
    "    raw_df = pd.read_csv(os.path.join(main_dir, raw_file))\n",
    "    additional_df = pd.read_csv(os.path.join(main_dir, additional_file))\n",
    "    \n",
    "    # Add Subject and Story columns\n",
    "    raw_df['Subject'] = subject\n",
    "    raw_df['Story'] = story\n",
    "    additional_df['Subject'] = subject\n",
    "    additional_df['Story'] = story\n",
    "    \n",
    "    # Merge additional file data to raw file by columns\n",
    "    combined_df = pd.concat([raw_df, additional_df.iloc[:len(raw_df)]], axis=1)\n",
    "    \n",
    "    return combined_df"
   ]
  },
  {
   "cell_type": "code",
   "execution_count": 8,
   "id": "e4de5afb",
   "metadata": {},
   "outputs": [],
   "source": [
    "# Iterate through raw files to merge with corresponding va3 files\n",
    "for raw_file in raw_files:\n",
    "    letter_number = raw_file.split(\"_\")[0]  # Extract \"a1\", \"a2\", etc.\n",
    "    \n",
    "    # Find corresponding additional file\n",
    "    additional_file = f\"{letter_number}_va3.csv\"\n",
    "    \n",
    "    if additional_file in additional_files:\n",
    "        combined_df = merge_files_add_metadata(raw_file, additional_file)\n",
    "        combined_dataframes.append(combined_df)"
   ]
  },
  {
   "cell_type": "code",
   "execution_count": null,
   "id": "c566cd3d",
   "metadata": {},
   "outputs": [
    {
     "name": "stdout",
     "output_type": "stream",
     "text": [
      "Combined data with metadata saved to C:/Users/reicd/Downloads/MY_ML_PROJECT/data/raw\\final_combined_data_with_metadata.csv\n"
     ]
    }
   ],
   "source": [
    "# Concatenate all combined dataframes vertically\n",
    "final_combined_df = pd.concat(combined_dataframes, ignore_index=True)"
   ]
  },
  {
   "cell_type": "code",
   "execution_count": 10,
   "id": "50a16e7d",
   "metadata": {},
   "outputs": [],
   "source": [
    "# Remove duplicate 'Subject' and 'Story' columns, if any exist, by keeping the first occurrence\n",
    "final_combined_df = final_combined_df.loc[:, ~final_combined_df.columns.duplicated()]"
   ]
  },
  {
   "cell_type": "code",
   "execution_count": 12,
   "id": "dcb53a6f",
   "metadata": {},
   "outputs": [
    {
     "name": "stdout",
     "output_type": "stream",
     "text": [
      "Combined data with metadata saved to C:/Users/reicd/Downloads/MY_ML_PROJECT/data/raw\\final_combined_data_with_metadata.csv\n"
     ]
    }
   ],
   "source": [
    "# Save the final dataframe to a new CSV file\n",
    "final_combined_path = os.path.join(main_dir, \"final_combined_data_with_metadata.csv\")\n",
    "final_combined_df.to_csv(final_combined_path, index=False)\n",
    "\n",
    "# Output confirmation\n",
    "print(f\"Combined data with metadata saved to {final_combined_path}\")"
   ]
  }
 ],
 "metadata": {
  "kernelspec": {
   "display_name": "ml_env",
   "language": "python",
   "name": "python3"
  },
  "language_info": {
   "codemirror_mode": {
    "name": "ipython",
    "version": 3
   },
   "file_extension": ".py",
   "mimetype": "text/x-python",
   "name": "python",
   "nbconvert_exporter": "python",
   "pygments_lexer": "ipython3",
   "version": "3.13.2"
  }
 },
 "nbformat": 4,
 "nbformat_minor": 5
}
