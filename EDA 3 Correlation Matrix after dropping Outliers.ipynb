{
 "cells": [
  {
   "cell_type": "code",
   "execution_count": null,
   "id": "10f2219a",
   "metadata": {},
   "outputs": [
    {
     "name": "stdout",
     "output_type": "stream",
     "text": [
      "Correlation matrix plot saved to C:/Users/reicd/Downloads/MY_ML_PROJECT/plots/CorrelationMatrices\\3_or_more_outliers_dropped_correlation_matrix.png and C:/Users/reicd/Downloads/MY_ML_PROJECT/plots/CorrelationMatrices\\3_or_more_outliers_dropped_correlation_matrix.pdf\n",
      "Correlation matrix plot saved to C:/Users/reicd/Downloads/MY_ML_PROJECT/plots/CorrelationMatrices\\2_or_more_outliers_dropped_correlation_matrix.png and C:/Users/reicd/Downloads/MY_ML_PROJECT/plots/CorrelationMatrices\\2_or_more_outliers_dropped_correlation_matrix.pdf\n",
      "Correlation matrix plot saved to C:/Users/reicd/Downloads/MY_ML_PROJECT/plots/CorrelationMatrices\\all_outliers_dropped_correlation_matrix.png and C:/Users/reicd/Downloads/MY_ML_PROJECT/plots/CorrelationMatrices\\all_outliers_dropped_correlation_matrix.pdf\n"
     ]
    }
   ],
   "source": [
    "import os\n",
    "import pandas as pd\n",
    "import numpy as np\n",
    "import matplotlib.pyplot as plt\n",
    "import seaborn as sns\n",
    "from scipy.stats import zscore\n",
    "\n",
    "# Set up directory paths\n",
    "main_dir = \"C:/Users/reicd/Downloads/MY_ML_PROJECT/data/raw\"\n",
    "processed_dir = \"C:/Users/reicd/Downloads/MY_ML_PROJECT/data/processed\"\n",
    "output_dir = \"C:/Users/reicd/Downloads/MY_ML_PROJECT/plots/CorrelationMatrices\"\n",
    "\n",
    "# Create directory if it doesn't exist\n",
    "os.makedirs(output_dir, exist_ok=True)\n",
    "\n",
    "# Read the original data\n",
    "df_path = os.path.join(main_dir, \"final_combined_data_with_metadata.csv\")\n",
    "df = pd.read_csv(df_path)\n",
    "\n",
    "# Exclude non-numerical columns and prepare data for outlier analysis\n",
    "numerical_columns = df.select_dtypes(include=[np.number]).columns.difference(['phase', 'Phase', 'Subject', 'Story'])\n",
    "z_scores = np.abs(zscore(df[numerical_columns].fillna(0)))\n",
    "\n",
    "# Count outlier features per record\n",
    "outlier_feature_count = (z_scores > 3).sum(axis=1)\n",
    "\n",
    "# Create datasets based on outlier thresholds\n",
    "datasets = {\n",
    "    \"3_or_more_outliers_dropped\": df[outlier_feature_count < 3],\n",
    "    \"2_or_more_outliers_dropped\": df[outlier_feature_count < 2],\n",
    "    \"all_outliers_dropped\": df[outlier_feature_count == 0]\n",
    "}\n",
    "\n",
    "# Function to plot correlation matrix\n",
    "def plot_correlation_matrix(dataframe, title, save_path_png, save_path_pdf):\n",
    "    # Calculating correlation matrix\n",
    "    corr = dataframe.corr()\n",
    "\n",
    "    # Plotting correlation matrix\n",
    "    plt.figure(figsize=(12, 10))\n",
    "    sns.set(style='white')\n",
    "    \n",
    "    ax = sns.heatmap(\n",
    "        corr, annot=True, fmt=\".2f\", cmap='coolwarm',\n",
    "        annot_kws={\"size\": 5},  # Adjust font size of numbers\n",
    "        cbar_kws={\"shrink\": .8}, vmin=-1, vmax=1, center=0\n",
    "    )\n",
    "    ax.set_title(title)\n",
    "    \n",
    "    # Save the plot as PNG and PDF\n",
    "    plt.tight_layout()\n",
    "    plt.savefig(save_path_png, bbox_inches='tight')\n",
    "    plt.savefig(save_path_pdf, format='pdf', bbox_inches='tight')\n",
    "    plt.close()\n",
    "\n",
    "# Generate correlation matrices for all datasets\n",
    "for name, dataset in datasets.items():\n",
    "    processed_data = dataset[numerical_columns]\n",
    "    plot_title = f'Correlation Matrix ({name.replace(\"_\", \" \").title()})'\n",
    "    plot_save_path_png = os.path.join(output_dir, f'{name}_correlation_matrix.png')\n",
    "    plot_save_path_pdf = os.path.join(output_dir, f'{name}_correlation_matrix.pdf')\n",
    "    \n",
    "    plot_correlation_matrix(processed_data, plot_title, plot_save_path_png, plot_save_path_pdf)\n",
    "\n",
    "    print(f\"Correlation matrix plot saved to {plot_save_path_png} and {plot_save_path_pdf}\")"
   ]
  }
 ],
 "metadata": {
  "kernelspec": {
   "display_name": "ml_env",
   "language": "python",
   "name": "python3"
  },
  "language_info": {
   "codemirror_mode": {
    "name": "ipython",
    "version": 3
   },
   "file_extension": ".py",
   "mimetype": "text/x-python",
   "name": "python",
   "nbconvert_exporter": "python",
   "pygments_lexer": "ipython3",
   "version": "3.13.2"
  }
 },
 "nbformat": 4,
 "nbformat_minor": 5
}
