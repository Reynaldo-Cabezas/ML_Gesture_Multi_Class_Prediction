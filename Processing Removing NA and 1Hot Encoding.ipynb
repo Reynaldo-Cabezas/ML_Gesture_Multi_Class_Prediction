{
 "cells": [
  {
   "cell_type": "code",
   "execution_count": 4,
   "id": "0bdc92ce",
   "metadata": {},
   "outputs": [
    {
     "name": "stdout",
     "output_type": "stream",
     "text": [
      "Prepared dataset saved to C:/Users/reicd/Downloads/MY_ML_PROJECT/data/prepared\\prepared_narrowed_3_or_more_outliers_dropped.csv\n",
      "Prepared dataset saved to C:/Users/reicd/Downloads/MY_ML_PROJECT/data/prepared\\prepared_narrowed_2_or_more_outliers_dropped.csv\n",
      "Prepared dataset saved to C:/Users/reicd/Downloads/MY_ML_PROJECT/data/prepared\\prepared_narrowed_all_outliers_dropped.csv\n",
      "Data preprocessing and preparation complete.\n"
     ]
    }
   ],
   "source": [
    "import os\n",
    "import pandas as pd\n",
    "import numpy as np  # Ensure numpy is imported\n",
    "from sklearn.preprocessing import StandardScaler, OneHotEncoder\n",
    "\n",
    "# Paths to narrowed datasets and prepared data directory\n",
    "narrowed_dir = \"C:/Users/reicd/Downloads/MY_ML_PROJECT/data/narrowed\"\n",
    "prepared_dir = \"C:/Users/reicd/Downloads/MY_ML_PROJECT/data/prepared\"\n",
    "os.makedirs(prepared_dir, exist_ok=True)\n",
    "\n",
    "# Dataset files\n",
    "files = [\n",
    "    \"narrowed_3_or_more_outliers_dropped.csv\",\n",
    "    \"narrowed_2_or_more_outliers_dropped.csv\",\n",
    "    \"narrowed_all_outliers_dropped.csv\"\n",
    "]\n",
    "\n",
    "# Function to process each file\n",
    "def process_dataset(file_path, filename):\n",
    "    # Read the data\n",
    "    df = pd.read_csv(file_path)\n",
    "\n",
    "    # Drop rows with NA values\n",
    "    df.dropna(inplace=True)\n",
    "\n",
    "    # Drop 'phase' column if exists, keep 'Phase'\n",
    "    if 'phase' in df.columns:\n",
    "        df.drop(columns=['phase'], inplace=True)\n",
    "    \n",
    "    # Identify categorical columns\n",
    "    categorical_columns = ['Subject', 'Story', 'Phase']\n",
    "    \n",
    "    # One-hot encode categorical features\n",
    "    df_encoded = pd.get_dummies(df, columns=categorical_columns)\n",
    "\n",
    "    # Standardize numerical features\n",
    "    numerical_columns = df_encoded.select_dtypes(include=[np.number]).columns\n",
    "    scaler = StandardScaler()\n",
    "    df_encoded[numerical_columns] = scaler.fit_transform(df_encoded[numerical_columns])\n",
    "    \n",
    "    # Save the prepared dataset\n",
    "    save_path = os.path.join(prepared_dir, f\"prepared_{filename}\")\n",
    "    df_encoded.to_csv(save_path, index=False)\n",
    "    print(f\"Prepared dataset saved to {save_path}\")\n",
    "\n",
    "# Process each narrowed dataset\n",
    "for file in files:\n",
    "    file_path = os.path.join(narrowed_dir, file)\n",
    "    process_dataset(file_path, file)\n",
    "\n",
    "print(\"Data preprocessing and preparation complete.\")"
   ]
  }
 ],
 "metadata": {
  "kernelspec": {
   "display_name": "ml_env",
   "language": "python",
   "name": "python3"
  },
  "language_info": {
   "codemirror_mode": {
    "name": "ipython",
    "version": 3
   },
   "file_extension": ".py",
   "mimetype": "text/x-python",
   "name": "python",
   "nbconvert_exporter": "python",
   "pygments_lexer": "ipython3",
   "version": "3.13.2"
  }
 },
 "nbformat": 4,
 "nbformat_minor": 5
}
