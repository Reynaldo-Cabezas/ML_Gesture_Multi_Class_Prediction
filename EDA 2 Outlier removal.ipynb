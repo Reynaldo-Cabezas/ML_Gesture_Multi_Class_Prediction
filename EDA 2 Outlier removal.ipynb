{
 "cells": [
  {
   "cell_type": "code",
   "execution_count": 1,
   "id": "b80146ad",
   "metadata": {},
   "outputs": [
    {
     "name": "stderr",
     "output_type": "stream",
     "text": [
      "C:\\Users\\reicd\\AppData\\Local\\Temp\\ipykernel_22196\\1328803770.py:18: FutureWarning: errors='ignore' is deprecated and will raise in a future version. Use to_numeric without passing `errors` and catch exceptions explicitly instead\n",
      "  df = df.apply(pd.to_numeric, errors='ignore')\n"
     ]
    },
    {
     "name": "stdout",
     "output_type": "stream",
     "text": [
      "Dataset saved to C:/Users/reicd/Downloads/MY_ML_PROJECT/data/processed\\3_or_more_outliers_dropped.csv\n",
      "Dataset saved to C:/Users/reicd/Downloads/MY_ML_PROJECT/data/processed\\2_or_more_outliers_dropped.csv\n",
      "Dataset saved to C:/Users/reicd/Downloads/MY_ML_PROJECT/data/processed\\all_outliers_dropped.csv\n",
      "Dataset '3_or_more_outliers_dropped' size: (8889, 55)\n",
      "Dataset '2_or_more_outliers_dropped' size: (8227, 55)\n",
      "Dataset 'all_outliers_dropped' size: (7529, 55)\n"
     ]
    }
   ],
   "source": [
    "import os\n",
    "import pandas as pd\n",
    "import numpy as np\n",
    "from scipy.stats import zscore\n",
    "\n",
    "# Set up directory paths\n",
    "main_dir = \"C:/Users/reicd/Downloads/MY_ML_PROJECT/data/raw\"\n",
    "output_dir = \"C:/Users/reicd/Downloads/MY_ML_PROJECT/data/processed\"\n",
    "\n",
    "# Create directory if it doesn't exist\n",
    "os.makedirs(output_dir, exist_ok=True)\n",
    "\n",
    "# Read the data\n",
    "df_path = os.path.join(main_dir, \"final_combined_data_with_metadata.csv\")\n",
    "df = pd.read_csv(df_path)\n",
    "\n",
    "# Ensure all columns are treated as numeric where applicable\n",
    "df = df.apply(pd.to_numeric, errors='ignore')\n",
    "\n",
    "# Prepare data for outlier analysis\n",
    "numeric_features = df.select_dtypes(include=[np.number]).columns\n",
    "z_scores = np.abs(zscore(df[numeric_features].fillna(0)))\n",
    "\n",
    "# Count outlier features per record\n",
    "outlier_feature_count = (z_scores > 3).sum(axis=1)\n",
    "\n",
    "# Datasets after dropping based on outlier thresholds\n",
    "datasets = {\n",
    "    \"3_or_more_outliers_dropped\": df[outlier_feature_count < 3],\n",
    "    \"2_or_more_outliers_dropped\": df[outlier_feature_count < 2],\n",
    "    \"all_outliers_dropped\": df[outlier_feature_count == 0]\n",
    "}\n",
    "\n",
    "# Save the datasets to the processed data folder\n",
    "for key, dataset in datasets.items():\n",
    "    dataset_path = os.path.join(output_dir, f\"{key}.csv\")\n",
    "    dataset.to_csv(dataset_path, index=False)\n",
    "    print(f\"Dataset saved to {dataset_path}\")\n",
    "\n",
    "# Display sizes of the new datasets\n",
    "for key, dataset in datasets.items():\n",
    "    print(f\"Dataset '{key}' size: {dataset.shape}\")"
   ]
  }
 ],
 "metadata": {
  "kernelspec": {
   "display_name": "ml_env",
   "language": "python",
   "name": "python3"
  },
  "language_info": {
   "codemirror_mode": {
    "name": "ipython",
    "version": 3
   },
   "file_extension": ".py",
   "mimetype": "text/x-python",
   "name": "python",
   "nbconvert_exporter": "python",
   "pygments_lexer": "ipython3",
   "version": "3.13.2"
  }
 },
 "nbformat": 4,
 "nbformat_minor": 5
}
