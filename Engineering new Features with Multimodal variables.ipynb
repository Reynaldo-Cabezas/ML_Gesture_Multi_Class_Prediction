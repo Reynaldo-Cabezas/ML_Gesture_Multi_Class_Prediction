{
 "cells": [
  {
   "cell_type": "code",
   "execution_count": 1,
   "id": "9c56ba22",
   "metadata": {},
   "outputs": [
    {
     "name": "stdout",
     "output_type": "stream",
     "text": [
      "Feature engineering completed and files saved in 'engineered data' directory.\n"
     ]
    }
   ],
   "source": [
    "import pandas as pd\n",
    "import os\n",
    "\n",
    "# List of files to process\n",
    "file_paths = [\n",
    "    r\"C:\\Users\\reicd\\Downloads\\MY_ML_PROJECT\\data\\prepared\\prepared_narrowed_all_outliers_dropped.csv\",\n",
    "    r\"C:\\Users\\reicd\\Downloads\\MY_ML_PROJECT\\data\\prepared\\prepared_narrowed_2_or_more_outliers_dropped.csv\",\n",
    "    r\"C:\\Users\\reicd\\Downloads\\MY_ML_PROJECT\\data\\prepared\\prepared_narrowed_3_or_more_outliers_dropped.csv\"\n",
    "]\n",
    "\n",
    "# Column names in lowercase\n",
    "columns = ['sy', 'sz', 'timestamp', 'lwz', 'rwz', 'rhx', 'rwy', 'rhy', 'sx', 'hx', 'hz', 'lhx', 'lhy', 'lwx', 'lhz']\n",
    "\n",
    "# Create a new directory for engineered data\n",
    "output_directory = r\"C:\\Users\\reicd\\Downloads\\MY_ML_PROJECT\\data\\engineered data\"\n",
    "os.makedirs(output_directory, exist_ok=True)\n",
    "\n",
    "def engineer_features(df):\n",
    "    \"\"\"Function to engineer new features from existing DataFrame.\"\"\"\n",
    "    for i in range(len(columns)):\n",
    "        for j in range(i + 1, len(columns)):\n",
    "            col1 = columns[i]\n",
    "            col2 = columns[j]\n",
    "            # Ensure both columns exist in the dataframe\n",
    "            if col1 in df.columns and col2 in df.columns:\n",
    "                # Create product\n",
    "                product_col_name = f'{col1}_{col2}_product'\n",
    "                df[product_col_name] = df[col1] * df[col2]\n",
    "                \n",
    "                # Create sum\n",
    "                sum_col_name = f'{col1}_{col2}_sum'\n",
    "                df[sum_col_name] = df[col1] + df[col2]\n",
    "                \n",
    "                # Create difference\n",
    "                diff_col_name = f'{col1}_{col2}_difference'\n",
    "                df[diff_col_name] = df[col1] - df[col2]\n",
    "    return df\n",
    "\n",
    "# Process each file\n",
    "for file_path in file_paths:\n",
    "    # Read the CSV file\n",
    "    df = pd.read_csv(file_path)\n",
    "    \n",
    "    # Engineer new features\n",
    "    df_engineered = engineer_features(df)\n",
    "    \n",
    "    # Create output file path\n",
    "    output_file_path = os.path.join(output_directory, os.path.basename(file_path))\n",
    "    \n",
    "    # Save the new DataFrame to CSV\n",
    "    df_engineered.to_csv(output_file_path, index=False)\n",
    "\n",
    "print(\"Feature engineering completed and files saved in 'engineered data' directory.\")"
   ]
  }
 ],
 "metadata": {
  "kernelspec": {
   "display_name": "ml_env",
   "language": "python",
   "name": "python3"
  },
  "language_info": {
   "codemirror_mode": {
    "name": "ipython",
    "version": 3
   },
   "file_extension": ".py",
   "mimetype": "text/x-python",
   "name": "python",
   "nbconvert_exporter": "python",
   "pygments_lexer": "ipython3",
   "version": "3.13.2"
  }
 },
 "nbformat": 4,
 "nbformat_minor": 5
}
